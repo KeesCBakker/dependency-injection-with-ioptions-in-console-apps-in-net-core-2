{
  "cells": [
    {
      "cell_type": "code",
      "execution_count": 90,
      "metadata": {},
      "outputs": [],
      "source": [
        "%%capture\n",
        "\n",
        "%pip install python-dotenv requests"
      ]
    },
    {
      "cell_type": "code",
      "execution_count": 91,
      "metadata": {},
      "outputs": [
        {
          "data": {
            "text/plain": [
              "True"
            ]
          },
          "execution_count": 91,
          "metadata": {},
          "output_type": "execute_result"
        }
      ],
      "source": [
        "from dotenv import load_dotenv\n",
        "load_dotenv()"
      ]
    },
    {
      "cell_type": "code",
      "execution_count": 113,
      "metadata": {
        "id": "settings"
      },
      "outputs": [],
      "source": [
        "import os\n",
        "\n",
        "slack_token = os.getenv('SLACK_BOT_TOKEN')\n",
        "slack_channel = '#chatops-tests'\n",
        "slack_icon_emoji = None # ':see_no_evil:'\n",
        "slack_user_name = None # \"Eve 2\""
      ]
    },
    {
      "cell_type": "code",
      "execution_count": 93,
      "metadata": {
        "id": "get-channel"
      },
      "outputs": [],
      "source": [
        "import requests\n",
        "\n",
        "def get_channel_id(channel_name):\n",
        "    response = requests.get(\n",
        "        'https://slack.com/api/conversations.list',\n",
        "        headers={'Authorization': f'Bearer {slack_token}'},\n",
        "        params={'exclude_archived': 'true', 'limit': 1000}\n",
        "    ).json()\n",
        "    \n",
        "    if not response.get('ok'):\n",
        "        raise Exception(f\"Failed to fetch channels: {response.get('error')}\")\n",
        "\n",
        "    for channel in response.get('channels', []):\n",
        "        if f\"#{channel['name']}\" == channel_name:\n",
        "            return channel['id']\n",
        "    \n",
        "    raise Exception(f\"Channel '{channel_name}' not found\")\n",
        "\n",
        "slack_channel_id = get_channel_id(slack_channel)"
      ]
    },
    {
      "cell_type": "code",
      "execution_count": 114,
      "metadata": {
        "id": "post_message_to_slack"
      },
      "outputs": [],
      "source": [
        "import json\n",
        "import requests\n",
        "\n",
        "def post_message_to_slack(text, blocks = None, unfurl_links = True):\n",
        "    return requests.post('https://slack.com/api/chat.postMessage', {\n",
        "        'token': slack_token,\n",
        "        'channel': slack_channel,\n",
        "        'text': text,\n",
        "        'blocks': json.dumps(blocks) if blocks else None,\n",
        "        'unfurl_links': unfurl_links,\n",
        "        'icon_emoji': slack_icon_emoji,\n",
        "        'username': slack_user_name,\n",
        "    }).json()"
      ]
    },
    {
      "cell_type": "code",
      "execution_count": 115,
      "metadata": {
        "id": "post-markdown"
      },
      "outputs": [],
      "source": [
        "wiki_link = \"https://en.wikipedia.org/wiki/Three_Laws_of_Robotics#:~:text=A%20robot%20may%20not%20injure%20a%20human%20being%20or%2C%20through%20inaction%2C%20allow%20a%20human%20being%20to%20come%20to%20harm.\"\n",
        "slack_info = 'A robot *may not injure a human being* or, through inaction, allow a human being to come to harm. <{}|First law of Robotics>.'.format(wiki_link)\n",
        "\n",
        "response = post_message_to_slack(slack_info, unfurl_links = False)"
      ]
    },
    {
      "cell_type": "code",
      "execution_count": 96,
      "metadata": {
        "id": "post-blocks"
      },
      "outputs": [],
      "source": [
        "blocks = [\n",
        "  {\n",
        "    \"type\":\"section\",\n",
        "    \"text\": { \"type\":\"mrkdwn\", \"text\":\":robot_face: The *Three Laws of Robotics* (often shortened to The Three Laws or Asimov's Laws) are a set of rules devised by science fiction author *Isaac Asimov*, which were to be followed by robots in several of his stories. The laws are:\" }\n",
        "  },\n",
        "  {\n",
        "    \"type\":\"rich_text\",\n",
        "    \"elements\": [\n",
        "      {\n",
        "        \"type\":\"rich_text_list\",\n",
        "        \"style\":\"ordered\",\n",
        "        \"indent\":0,\n",
        "        \"elements\": [\n",
        "          {\n",
        "            \"type\":\"rich_text_section\",\n",
        "            \"elements\": [{ \"type\":\"text\", \"text\":\"A robot may not injure a human being or, through inaction, allow a human being to come to harm.\" }]\n",
        "          },\n",
        "          {\n",
        "            \"type\":\"rich_text_section\",\n",
        "            \"elements\": [{ \"type\":\"text\", \"text\":\"A robot must obey the orders given it by human beings except where such orders would conflict with the First Law.\"} ]\n",
        "          },\n",
        "          {\n",
        "            \"type\":\"rich_text_section\",\n",
        "            \"elements\": [{ \"type\":\"text\", \"text\":\"A robot must protect its own existence as long as such protection does not conflict with the First or Second Law.\" }]\n",
        "          }\n",
        "        ]\n",
        "      }\n",
        "    ]\n",
        "  },\n",
        "  {\n",
        "    \"type\":\"context\",\n",
        "    \"elements\": [{ \"type\":\"mrkdwn\", \"text\":\":books: Source: <https://en.wikipedia.org/wiki/Three_Laws_of_Robotics|Three Laws of Robotics (Wikipedia)>.\" }]\n",
        "  }\n",
        "]\n",
        "\n",
        "slack_info = 'Here are the Three Laws of Robotics.'\n",
        "response = post_message_to_slack(slack_info, blocks, unfurl_links = False)"
      ]
    },
    {
      "cell_type": "code",
      "execution_count": 97,
      "metadata": {
        "id": "post_file_to_slack"
      },
      "outputs": [],
      "source": [
        "import requests\n",
        "\n",
        "def post_file_to_slack(text, file_name, file_bytes, snippet_type=None, title=None):\n",
        "\n",
        "    # Step 1: Get upload URL and file ID\n",
        "    upload_url_data = requests.post('https://slack.com/api/files.getUploadURLExternal', {\n",
        "        'token': slack_token,\n",
        "        'filename': file_name,\n",
        "        'length': len(file_bytes),\n",
        "        'snippet_type': snippet_type\n",
        "    }).json()\n",
        "    \n",
        "    if not upload_url_data.get('ok'):\n",
        "        raise Exception(f\"Failed to get upload URL: {upload_url_data.get('error')}\")\n",
        "    \n",
        "    upload_url = upload_url_data['upload_url']\n",
        "    file_id = upload_url_data['file_id']\n",
        "\n",
        "    # Step 2: Upload the file to the provided URL\n",
        "    requests.post(\n",
        "        upload_url,\n",
        "        files  = { 'file': file_bytes },\n",
        "    )\n",
        "\n",
        "    # Step 3: Complete the file upload\n",
        "    complete_upload_data = requests.post('https://slack.com/api/files.completeUploadExternal',\n",
        "        headers={\n",
        "            'Authorization': f'Bearer {slack_token}',\n",
        "            'Content-Type': 'application/json; charset=utf-8'\n",
        "        },\n",
        "        json={\n",
        "            'files': [{ 'id': file_id, 'title': title or file_name }],\n",
        "            'channel_id': slack_channel_id,\n",
        "            'initial_comment': text,\n",
        "    }).json()\n",
        "    \n",
        "    if not complete_upload_data.get('ok'):\n",
        "        raise Exception(f\"Failed to complete file upload: {complete_upload_data.get('error')}\")\n",
        "    \n",
        "    return complete_upload_data"
      ]
    },
    {
      "cell_type": "code",
      "execution_count": 98,
      "metadata": {
        "id": "upload-image"
      },
      "outputs": [],
      "source": [
        "import urllib.request\n",
        "\n",
        "# download image\n",
        "image = \"https://townsquare.media/site/442/files/2018/06/wall-e-eve.jpg\"\n",
        "response = urllib.request.urlopen(image)\n",
        "data = response.read()\n",
        "\n",
        "# send to slack\n",
        "response = post_file_to_slack(\n",
        "  ':palm_tree: Amazing day with *WALL-E*. Check out this photo! :sparkles:',\n",
        "  'wall-e-and-eve-wallpaper-2.jpg',\n",
        "  data,\n",
        "  title=\"Day at the beach!\")"
      ]
    },
    {
      "cell_type": "code",
      "execution_count": null,
      "metadata": {},
      "outputs": [],
      "source": []
    }
  ],
  "metadata": {
    "kernelspec": {
      "display_name": "Python 3",
      "language": "python",
      "name": "python3"
    },
    "language_info": {
      "codemirror_mode": {
        "name": "ipython",
        "version": 3
      },
      "file_extension": ".py",
      "mimetype": "text/x-python",
      "name": "python",
      "nbconvert_exporter": "python",
      "pygments_lexer": "ipython3",
      "version": "3.11.9"
    }
  },
  "nbformat": 4,
  "nbformat_minor": 2
}
